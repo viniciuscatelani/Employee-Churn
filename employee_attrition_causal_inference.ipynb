{
 "cells": [
  {
   "cell_type": "markdown",
   "id": "91887590",
   "metadata": {},
   "source": [
    "## 🔍 Causal Inference: Understanding What *Causes* Employee Churn\n",
    "\n",
    "While predictive modeling can tell us which factors are correlated with employee churn, it doesn't answer the more fundamental question: *what causes employees to leave?*\n",
    "\n",
    "This notebook explores causal inference techniques to identify potential causal relationships between employee characteristics and churn. By moving beyond correlation, we aim to support more effective and targeted interventions to reduce turnover.\n",
    "\n",
    "### Objectives\n",
    "- Apply causal inference methods (e.g., propensity score matching, causal graphs, or DoWhy) to assess causal effects.\n",
    "- Investigate whether the most predictive features are truly causal.\n",
    "- Provide interpretable and actionable insights for decision-making.\n",
    "\n",
    "> This analysis builds on the predictive model developed in the previous notebook. For context, refer to [employee_attrition.ipynb](./employee_attrition.ipynb).\n"
   ]
  },
  {
   "cell_type": "markdown",
   "id": "924fcf3c",
   "metadata": {},
   "source": [
    "Building on the previous data analysis and predictive modeling, we found that variables such as **Job Role** and **Over Time** are highly correlated with employee churn. These two stand out as the most important predictors among all features used in the model. Other variables like **Age** and **Business Travel** also showed strong predictive power.\n",
    "\n",
    "However, correlation does not imply causation.\n",
    "\n",
    "To deepen our understanding, we now turn to causal inference to investigate whether these variables actually *cause* employees to leave the company. In particular, we will explore the following questions:\n",
    "\n",
    "- Does having a specific job role (e.g., Director vs. Research Scientist) make someone more likely to leave the company?\n",
    "- Is younger age a causal factor for churn?\n",
    "- Does working overtime directly influence the decision to resign?\n",
    "- Is frequent business travel a reason why employees look for opportunities elsewhere?\n",
    "\n",
    "Answering these questions will allow us to go beyond prediction and understand the mechanisms behind churn. With causal insights, we can think about targeted interventions that could help reduce churn risk — and, consequently, lower associated costs like employee replacement, training, and loss of productivity.\n",
    "\n",
    "This notebook is part of an ongoing learning journey in causal inference. The goal is to apply theoretical knowledge in a practical scenario, iterating and refining the approach as new insights emerge."
   ]
  },
  {
   "cell_type": "markdown",
   "id": "6d8bb854",
   "metadata": {},
   "source": [
    "To start our causal analysis, we first need to examine the variables available and understand how they relate to each other. This step is essential: in causal inference, identifying the relationships between variables allows us to build a meaningful **causal graph** (or DAG — Directed Acyclic Graph), which will serve as the foundation for our analysis.\n",
    "\n",
    "A well-defined causal graph helps us reason about potential confounders, mediators, and colliders, and guides our choice of estimation methods. Let's begin by exploring the variables and thinking about their possible causal connections."
   ]
  },
  {
   "cell_type": "markdown",
   "id": "6c782d8d",
   "metadata": {},
   "source": []
  }
 ],
 "metadata": {
  "kernelspec": {
   "display_name": "base",
   "language": "python",
   "name": "python3"
  },
  "language_info": {
   "name": "python",
   "version": "3.10.14"
  }
 },
 "nbformat": 4,
 "nbformat_minor": 5
}
