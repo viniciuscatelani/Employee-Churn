{
 "cells": [
  {
   "cell_type": "markdown",
   "id": "91887590",
   "metadata": {},
   "source": [
    "## 🔍 Causal Inference: Understanding What *Causes* Employee Churn\n",
    "\n",
    "While predictive modeling can tell us which factors are correlated with employee churn, it doesn't answer the more fundamental question: *what causes employees to leave?*\n",
    "\n",
    "This notebook explores causal inference techniques to identify potential causal relationships between employee characteristics and churn. By moving beyond correlation, we aim to support more effective and targeted interventions to reduce turnover.\n",
    "\n",
    "### Objectives\n",
    "- Apply causal inference methods (e.g., propensity score matching, causal graphs, or DoWhy) to assess causal effects.\n",
    "- Investigate whether the most predictive features are truly causal.\n",
    "- Provide interpretable and actionable insights for decision-making.\n",
    "\n",
    "> This analysis builds on the predictive model developed in the previous notebook. For context, refer to [employee_attrition.ipynb](./employee_attrition.ipynb).\n"
   ]
  },
  {
   "cell_type": "markdown",
   "id": "924fcf3c",
   "metadata": {},
   "source": []
  }
 ],
 "metadata": {
  "kernelspec": {
   "display_name": "base",
   "language": "python",
   "name": "python3"
  },
  "language_info": {
   "name": "python",
   "version": "3.10.14"
  }
 },
 "nbformat": 4,
 "nbformat_minor": 5
}
